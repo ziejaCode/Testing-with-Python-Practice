{
 "metadata": {
  "language_info": {
   "codemirror_mode": {
    "name": "ipython",
    "version": 3
   },
   "file_extension": ".py",
   "mimetype": "text/x-python",
   "name": "python",
   "nbconvert_exporter": "python",
   "pygments_lexer": "ipython3",
   "version": "3.7.4"
  },
  "orig_nbformat": 2,
  "kernelspec": {
   "name": "python374jvsc74a57bd00b15b737317ee57d023fd1135e68b8999dc64b0fb76512e8c43c46da68401b6e",
   "display_name": "Python 3.7.4 32-bit"
  },
  "metadata": {
   "interpreter": {
    "hash": "0b15b737317ee57d023fd1135e68b8999dc64b0fb76512e8c43c46da68401b6e"
   }
  }
 },
 "nbformat": 4,
 "nbformat_minor": 2,
 "cells": [
  {
   "cell_type": "code",
   "execution_count": 1,
   "metadata": {},
   "outputs": [
    {
     "output_type": "stream",
     "name": "stdout",
     "text": [
      "3.7.4\n3.7.4 (tags/v3.7.4:e09359112e, Jul  8 2019, 19:29:22) [MSC v.1916 32 bit (Intel)]\n"
     ]
    }
   ],
   "source": [
    "import sys \n",
    "\n",
    "print(sys.version.split()[0])\n",
    "print(sys.version)"
   ]
  },
  {
   "cell_type": "code",
   "execution_count": 8,
   "metadata": {},
   "outputs": [
    {
     "output_type": "error",
     "ename": "SyntaxError",
     "evalue": "invalid syntax (<ipython-input-8-4f635a7dc7d7>, line 3)",
     "traceback": [
      "\u001b[1;36m  File \u001b[1;32m\"<ipython-input-8-4f635a7dc7d7>\"\u001b[1;36m, line \u001b[1;32m3\u001b[0m\n\u001b[1;33m    assert <condition>\u001b[0m\n\u001b[1;37m           ^\u001b[0m\n\u001b[1;31mSyntaxError\u001b[0m\u001b[1;31m:\u001b[0m invalid syntax\n"
     ]
    }
   ],
   "source": [
    "# syntax\n",
    "\n",
    "assert <condition>\n",
    "\n",
    "assert <condition> <optional message>"
   ]
  },
  {
   "cell_type": "code",
   "execution_count": 10,
   "metadata": {},
   "outputs": [
    {
     "output_type": "error",
     "ename": "AssertionError",
     "evalue": "",
     "traceback": [
      "\u001b[1;31m---------------------------------------------------------------------------\u001b[0m",
      "\u001b[1;31mAssertionError\u001b[0m                            Traceback (most recent call last)",
      "\u001b[1;32m<ipython-input-10-a871fdc9ebee>\u001b[0m in \u001b[0;36m<module>\u001b[1;34m\u001b[0m\n\u001b[1;32m----> 1\u001b[1;33m \u001b[1;32massert\u001b[0m \u001b[1;32mFalse\u001b[0m\u001b[1;33m\u001b[0m\u001b[1;33m\u001b[0m\u001b[0m\n\u001b[0m",
      "\u001b[1;31mAssertionError\u001b[0m: "
     ]
    }
   ],
   "source": [
    "assert False # throws an error and stops execution"
   ]
  },
  {
   "cell_type": "code",
   "execution_count": 15,
   "metadata": {},
   "outputs": [
    {
     "output_type": "error",
     "ename": "AssertionError",
     "evalue": "Falled now",
     "traceback": [
      "\u001b[1;31m---------------------------------------------------------------------------\u001b[0m",
      "\u001b[1;31mAssertionError\u001b[0m                            Traceback (most recent call last)",
      "\u001b[1;32m<ipython-input-15-0c62e7a4fa08>\u001b[0m in \u001b[0;36m<module>\u001b[1;34m\u001b[0m\n\u001b[1;32m----> 1\u001b[1;33m \u001b[1;32massert\u001b[0m \u001b[1;32mFalse\u001b[0m\u001b[1;33m,\u001b[0m \u001b[1;34m'Falled now'\u001b[0m  \u001b[1;31m# throws an error and prints optinal message\u001b[0m\u001b[1;33m\u001b[0m\u001b[1;33m\u001b[0m\u001b[0m\n\u001b[0m",
      "\u001b[1;31mAssertionError\u001b[0m: Falled now"
     ]
    }
   ],
   "source": [
    "assert False, 'Falled now'  # throws an error and prints optinal message\n"
   ]
  },
  {
   "cell_type": "code",
   "execution_count": 30,
   "metadata": {},
   "outputs": [
    {
     "output_type": "stream",
     "name": "stdout",
     "text": [
      "Passed\n"
     ]
    }
   ],
   "source": [
    "assert True  # execute and continue to proces the code\n",
    "print('Passed')"
   ]
  },
  {
   "cell_type": "code",
   "execution_count": 38,
   "metadata": {},
   "outputs": [
    {
     "output_type": "error",
     "ename": "AssertionError",
     "evalue": "failed 2",
     "traceback": [
      "\u001b[1;31m---------------------------------------------------------------------------\u001b[0m",
      "\u001b[1;31mAssertionError\u001b[0m                            Traceback (most recent call last)",
      "\u001b[1;32m<ipython-input-38-6212b12e3205>\u001b[0m in \u001b[0;36m<module>\u001b[1;34m\u001b[0m\n\u001b[0;32m      1\u001b[0m \u001b[1;32massert\u001b[0m \u001b[1;33m(\u001b[0m\u001b[1;36m1\u001b[0m \u001b[1;33m+\u001b[0m \u001b[1;36m1\u001b[0m\u001b[1;33m)\u001b[0m \u001b[1;33m==\u001b[0m \u001b[1;36m2\u001b[0m\u001b[1;33m,\u001b[0m \u001b[1;34m'failed'\u001b[0m\u001b[1;33m\u001b[0m\u001b[1;33m\u001b[0m\u001b[0m\n\u001b[0;32m      2\u001b[0m \u001b[1;34m'passed'\u001b[0m\u001b[1;33m\u001b[0m\u001b[1;33m\u001b[0m\u001b[0m\n\u001b[1;32m----> 3\u001b[1;33m \u001b[1;32massert\u001b[0m \u001b[1;33m(\u001b[0m\u001b[1;36m1\u001b[0m \u001b[1;33m+\u001b[0m \u001b[1;36m1\u001b[0m\u001b[1;33m)\u001b[0m \u001b[1;33m==\u001b[0m \u001b[1;36m3\u001b[0m\u001b[1;33m,\u001b[0m \u001b[1;34m'failed 2'\u001b[0m\u001b[1;33m\u001b[0m\u001b[1;33m\u001b[0m\u001b[0m\n\u001b[0m\u001b[0;32m      4\u001b[0m \u001b[1;34m'passed 2'\u001b[0m\u001b[1;33m\u001b[0m\u001b[1;33m\u001b[0m\u001b[0m\n",
      "\u001b[1;31mAssertionError\u001b[0m: failed 2"
     ]
    }
   ],
   "source": [
    "assert (1 + 1) == 2, 'failed'\n",
    "'passed'\n",
    "assert (1 + 1) == 3, 'failed 2'\n",
    "'passed 2'"
   ]
  },
  {
   "cell_type": "code",
   "execution_count": 7,
   "metadata": {},
   "outputs": [
    {
     "output_type": "error",
     "ename": "SyntaxError",
     "evalue": "invalid syntax (<ipython-input-7-b628247890ad>, line 9)",
     "traceback": [
      "\u001b[1;36m  File \u001b[1;32m\"<ipython-input-7-b628247890ad>\"\u001b[1;36m, line \u001b[1;32m9\u001b[0m\n\u001b[1;33m    assert is_ITA print('bye')\u001b[0m\n\u001b[1;37m                      ^\u001b[0m\n\u001b[1;31mSyntaxError\u001b[0m\u001b[1;31m:\u001b[0m invalid syntax\n"
     ]
    }
   ],
   "source": [
    "# exe1\n",
    "\n",
    "\n",
    "countries = ['POL', 'GER', 'USA', 'ITA']\n",
    "\n",
    "\n",
    "is_ITA = 'ITA' in countries\n",
    "\n",
    "assert is_ITA print('bye')\n"
   ]
  },
  {
   "cell_type": "code",
   "execution_count": 18,
   "metadata": {},
   "outputs": [
    {
     "output_type": "execute_result",
     "data": {
      "text/plain": [
       "'validation passed'"
      ]
     },
     "metadata": {},
     "execution_count": 18
    }
   ],
   "source": [
    "assert \"Harry\" in \"Harry is in the house\", 'validation failed'\n",
    "'validation passed'"
   ]
  },
  {
   "cell_type": "code",
   "execution_count": 28,
   "metadata": {},
   "outputs": [],
   "source": [
    "def val(name):\n",
    "    assert 'Harry' in f\"{} is in the house\", 'validation failed'\n",
    "    return 'validation passed'"
   ]
  },
  {
   "cell_type": "code",
   "execution_count": 29,
   "metadata": {},
   "outputs": [
    {
     "output_type": "execute_result",
     "data": {
      "text/plain": [
       "'validation passed'"
      ]
     },
     "metadata": {},
     "execution_count": 29
    }
   ],
   "source": [
    "val('Bob')"
   ]
  },
  {
   "cell_type": "code",
   "execution_count": 39,
   "metadata": {},
   "outputs": [],
   "source": [
    "# exe4\n",
    "\n",
    "def max_min_diff(numbers):\n",
    "    assert len(numbers) != 0, 'The numbers object cannot be empty'\n",
    "    return max(numbers) - min(numbers)"
   ]
  },
  {
   "cell_type": "code",
   "execution_count": 44,
   "metadata": {},
   "outputs": [],
   "source": [
    "if __name__=='__main__':\n",
    "    max_min_diff([2,3])"
   ]
  },
  {
   "cell_type": "code",
   "execution_count": 45,
   "metadata": {},
   "outputs": [],
   "source": [
    "# exe5\n",
    "\n",
    "def area(width, height):\n",
    "    return width * height"
   ]
  },
  {
   "cell_type": "code",
   "execution_count": 54,
   "metadata": {},
   "outputs": [
    {
     "output_type": "error",
     "ename": "AssertionError",
     "evalue": "failed",
     "traceback": [
      "\u001b[1;31m---------------------------------------------------------------------------\u001b[0m",
      "\u001b[1;31mAssertionError\u001b[0m                            Traceback (most recent call last)",
      "\u001b[1;32m<ipython-input-54-4e2de178f155>\u001b[0m in \u001b[0;36m<module>\u001b[1;34m\u001b[0m\n\u001b[0;32m      1\u001b[0m \u001b[1;32mif\u001b[0m \u001b[0m__name__\u001b[0m\u001b[1;33m==\u001b[0m\u001b[1;34m'__main__'\u001b[0m\u001b[1;33m:\u001b[0m\u001b[1;33m\u001b[0m\u001b[1;33m\u001b[0m\u001b[0m\n\u001b[1;32m----> 2\u001b[1;33m     \u001b[1;32massert\u001b[0m \u001b[0marea\u001b[0m\u001b[1;33m(\u001b[0m\u001b[1;36m4\u001b[0m\u001b[1;33m,\u001b[0m \u001b[1;36m10\u001b[0m\u001b[1;33m)\u001b[0m \u001b[1;33m==\u001b[0m \u001b[1;36m43\u001b[0m\u001b[1;33m,\u001b[0m \u001b[1;34m'failed'\u001b[0m\u001b[1;33m\u001b[0m\u001b[1;33m\u001b[0m\u001b[0m\n\u001b[0m\u001b[0;32m      3\u001b[0m     \u001b[1;34m'Passed'\u001b[0m\u001b[1;33m\u001b[0m\u001b[1;33m\u001b[0m\u001b[0m\n",
      "\u001b[1;31mAssertionError\u001b[0m: failed"
     ]
    }
   ],
   "source": [
    "if __name__=='__main__':\n",
    "    assert area(4, 10) == 43, 'failed'\n",
    "    'Passed'"
   ]
  },
  {
   "cell_type": "code",
   "execution_count": 55,
   "metadata": {},
   "outputs": [
    {
     "output_type": "execute_result",
     "data": {
      "text/plain": [
       "'Passed'"
      ]
     },
     "metadata": {},
     "execution_count": 55
    }
   ],
   "source": [
    "assert area(4, 10) == 40\n",
    "'Passed'"
   ]
  },
  {
   "cell_type": "code",
   "execution_count": 56,
   "metadata": {},
   "outputs": [],
   "source": [
    "# exe 6\n",
    "\n",
    "def area(width, height):\n",
    "    \"\"\"The function returns the area of the rectangle.\"\"\"\n",
    "\n",
    "    if not (isinstance(width, int) and isinstance(height, int)):\n",
    "        raise TypeError('The width and height must be of type int.')\n",
    "\n",
    "    if not (width > 0 and height > 0):\n",
    "        raise ValueError('The width and height must be positive.')\n",
    "\n",
    "    return width * height"
   ]
  },
  {
   "cell_type": "code",
   "execution_count": 58,
   "metadata": {},
   "outputs": [],
   "source": [
    "assert area(int('5'), int('4')) == 20"
   ]
  },
  {
   "cell_type": "code",
   "execution_count": 61,
   "metadata": {},
   "outputs": [],
   "source": [
    "# exe 8\n",
    "\n",
    "def calculate_tax(amount, tax_rate, age):\n",
    "    \"\"\"The function returns the amount of income tax.\"\"\"\n",
    " \n",
    "    if age <= 18:\n",
    "        return int(min(amount * tax_rate, 5000))\n",
    "    elif age <= 65:\n",
    "        return int(amount * tax_rate)\n",
    "    else:\n",
    "        return int(min(amount * tax_rate, 8000))\n",
    " \n",
    "def test_calculate_tax():\n",
    "    assert calculate_tax(60000, 0.15, 10) == 5000        \n",
    "    assert calculate_tax(60000, 0.15, 18) == 5000\n",
    "    assert calculate_tax(60000, 0.15, 19) == 9000\n",
    "    assert calculate_tax(60000, 0.15, 65) == 9000\n",
    "    assert calculate_tax(60000, 0.15, 66) == 8000\n",
    " \n",
    "test_calculate_tax()"
   ]
  },
  {
   "cell_type": "code",
   "execution_count": 73,
   "metadata": {},
   "outputs": [],
   "source": [
    "# exe 9\n",
    "\n",
    "def calculate_tax(amount, tax_rate, age):\n",
    "    \"\"\"The function returns the amount of income tax.\"\"\"\n",
    "\n",
    "    if age <= 18:\n",
    "        return int(min(amount * tax_rate, 5000))\n",
    "    elif age <= 65:\n",
    "        return int(amount * tax_rate)\n",
    "    else:\n",
    "        return int(min(amount * tax_rate, 8000))\n",
    "\n",
    "def test_calculate_tax():\n",
    "    assert calculate_tax(60000, 0.15, 10) == 5000, 'fail_1'     \n",
    "    assert calculate_tax(60000, 0.15, 18) == 5000, 'fail_2'    \n",
    "    assert calculate_tax(60000, 0.15, 19) == 9000, 'fail_3'\n",
    "    assert calculate_tax(60000, 0.15, 65) == 9000, 'fail_4'\n",
    "    assert calculate_tax(60000, 0.15, 66) == 8000, 'fail_5'\n",
    "\n",
    "test_calculate_tax()"
   ]
  },
  {
   "cell_type": "code",
   "execution_count": null,
   "metadata": {},
   "outputs": [],
   "source": []
  }
 ]
}